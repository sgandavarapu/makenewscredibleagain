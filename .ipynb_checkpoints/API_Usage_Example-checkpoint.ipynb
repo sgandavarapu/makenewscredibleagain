{
 "cells": [
  {
   "cell_type": "code",
   "execution_count": 13,
   "metadata": {
    "collapsed": false
   },
   "outputs": [
    {
     "name": "stdout",
     "output_type": "stream",
     "text": [
      "<Response [500]>\n"
     ]
    }
   ],
   "source": [
    "import requests, json\n",
    "\n",
    "api_url = 'https://genuine-charger-124604.appspot.com/mnca-classify-url'\n",
    "urltext = 'www.cnn.com/2017/04/18/us/cleveland-victims-family-we-forgive-killer-cnntv/index.html' \n",
    "r = requests.post(api_url,urltext)\n",
    "\n",
    "print r"
   ]
  },
  {
   "cell_type": "code",
   "execution_count": 14,
   "metadata": {
    "collapsed": false
   },
   "outputs": [
    {
     "name": "stdout",
     "output_type": "stream",
     "text": [
      "<Response [500]>\n"
     ]
    }
   ],
   "source": [
    "import requests, json\n",
    "\n",
    "api_url = 'https://genuine-charger-124604.appspot.com/mnca-classify-article-content'\n",
    "data = json.dumps({'title': 'this is a test article.', 'text': 'this is a test article.'})\n",
    "r = requests.post(api_url,data)\n",
    "\n",
    "print r"
   ]
  }
 ],
 "metadata": {
  "kernelspec": {
   "display_name": "Python 2",
   "language": "python",
   "name": "python2"
  },
  "language_info": {
   "codemirror_mode": {
    "name": "ipython",
    "version": 2
   },
   "file_extension": ".py",
   "mimetype": "text/x-python",
   "name": "python",
   "nbconvert_exporter": "python",
   "pygments_lexer": "ipython2",
   "version": "2.7.11"
  }
 },
 "nbformat": 4,
 "nbformat_minor": 0
}
