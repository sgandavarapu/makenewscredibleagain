{
 "cells": [
  {
   "cell_type": "code",
   "execution_count": null,
   "metadata": {
    "collapsed": true
   },
   "outputs": [],
   "source": []
  },
  {
   "cell_type": "code",
<<<<<<< HEAD
   "execution_count": 26,
=======
   "execution_count": 13,
>>>>>>> 0b3f94350c398211f1a63c50b55d59a160229ab8
   "metadata": {
    "collapsed": false
   },
   "outputs": [
    {
     "name": "stdout",
     "output_type": "stream",
     "text": [
      "{\n",
      "  \"interpretation\": {\n",
      "    \"tone_feats\": {\n",
      "      \"convention\": \"Credible\"\n",
      "    }, \n",
      "    \"word_feats\": [\n",
      "      \"mr\", \n",
      "      \"photo\", \n",
      "      \"japan\", \n",
      "      \"officials\", \n",
      "      \"navy\", \n",
      "      \"carrier\", \n",
      "      \"korea\", \n",
      "      \"carl\", \n",
      "      \"said\", \n",
      "      \"april\"\n",
      "    ]\n",
      "  }, \n",
      "  \"label\": \"Credible\", \n",
      "  \"label_prob\": [\n",
      "    0.7377944481105257, \n",
      "    0.26220555188947053\n",
      "  ]\n",
      "}\n",
      "\n"
     ]
    }
   ],
   "source": [
    "import requests, json\n",
    "#import newspaper\n",
    "\n",
    "api_url = 'https://genuine-charger-124604.appspot.com/mnca-classify-url'\n",
    "data = {\"url\":\"https://www.nytimes.com/2017/04/18/world/asia/aircraft-carrier-north-korea-carl-vinson.html?_r=0\"}\n",
    "\n",
    "r = requests.post(api_url,data)\n",
    "\n",
    "print r.text\n",
    "\n",
    "#link = newspaper.Article(urltext)\n",
    "#link.download()\n",
    "#link.parse()\n",
    "\n",
    "#article = {}\n",
    "#article[\"title\"] = link.title\n",
    "#article[\"text\"] = link.text\n",
    "#print article\n",
    "    \n"
   ]
  },
  {
   "cell_type": "code",
   "execution_count": 25,
   "metadata": {
    "collapsed": false
   },
   "outputs": [
    {
     "name": "stdout",
     "output_type": "stream",
     "text": [
      "{\n",
      "  \"interpretation\": {\n",
      "    \"tone_feats\": {\n",
      "      \"sentiment\": \"Non-Credible\"\n",
      "    }, \n",
      "    \"word_feats\": [\n",
      "      \"article\", \n",
      "      \"pernicious\", \n",
      "      \"perpetually\", \n",
      "      \"perpetual\", \n",
      "      \"perpetrators\", \n",
      "      \"perpetrator\", \n",
      "      \"perpetration\", \n",
      "      \"perpetrating\", \n",
      "      \"perpetrated\", \n",
      "      \"0002\"\n",
      "    ]\n",
      "  }, \n",
      "  \"label\": \"Non-Credible\", \n",
      "  \"label_prob\": [\n",
      "    0.4234068348734123, \n",
      "    0.5765931651265878\n",
      "  ]\n",
      "}\n",
      "\n"
     ]
    }
   ],
   "source": [
    "import requests, json\n",
    "\n",
    "api_url = 'https://genuine-charger-124604.appspot.com/mnca-classify-article-content'\n",
    "data = json.dumps({'title': 'this is a test article.', 'text': 'this is a test article.'})\n",
    "r = requests.post(api_url,data)\n",
    "\n",
    "print r.text"
   ]
  }
 ],
 "metadata": {
  "anaconda-cloud": {},
  "kernelspec": {
   "display_name": "Python [default]",
   "language": "python",
   "name": "python2"
  }
 },
 "nbformat": 4,
 "nbformat_minor": 0
}
