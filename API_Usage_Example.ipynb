{
 "cells": [
  {
   "cell_type": "code",
   "execution_count": null,
   "metadata": {
    "collapsed": true
   },
   "outputs": [],
   "source": []
  },
  {
   "cell_type": "code",
   "execution_count": 26,
   "metadata": {
    "collapsed": false
   },
   "outputs": [
    {
     "name": "stdout",
     "output_type": "stream",
     "text": [
      "<Response [500]>\n"
     ]
    }
   ],
   "source": [
    "import requests, json\n",
    "import newspaper\n",
    "\n",
    "api_url = 'https://genuine-charger-124604.appspot.com/mnca-classify-url'\n",
    "urltext = 'https://www.nytimes.com/2017/04/18/world/asia/aircraft-carrier-north-korea-carl-vinson.html?_r=0' \n",
    "\n",
    "link = newspaper.Article(urltext)\n",
    "link.download()\n",
    "link.parse()\n",
    "\n",
    "article = {}\n",
    "article[\"title\"] = link.title\n",
    "article[\"text\"] = link.text\n",
    "#print article\n",
    "    \n",
    "r = requests.post(api_url,urltext)\n",
    "\n",
    "print r"
   ]
  },
  {
   "cell_type": "code",
   "execution_count": 25,
   "metadata": {
    "collapsed": false
   },
   "outputs": [
    {
     "name": "stdout",
     "output_type": "stream",
     "text": [
      "<Response [500]>\n"
     ]
    }
   ],
   "source": [
    "import requests, json\n",
    "\n",
    "api_url = 'https://genuine-charger-124604.appspot.com/mnca-classify-article-content'\n",
    "data = json.dumps({'title': 'this is a test article.', 'text': 'this is a test article.'})\n",
    "r = requests.post(api_url,data)\n",
    "\n",
    "print r"
   ]
  }
 ],
 "metadata": {
  "kernelspec": {
   "display_name": "Python 2",
   "language": "python",
   "name": "python2"
  },
  "language_info": {
   "codemirror_mode": {
    "name": "ipython",
    "version": 2
   },
   "file_extension": ".py",
   "mimetype": "text/x-python",
   "name": "python",
   "nbconvert_exporter": "python",
   "pygments_lexer": "ipython2",
   "version": "2.7.11"
  }
 },
 "nbformat": 4,
 "nbformat_minor": 0
}
